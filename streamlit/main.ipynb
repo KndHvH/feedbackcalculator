{
 "cells": [
  {
   "cell_type": "code",
   "execution_count": null,
   "outputs": [],
   "source": [
    "!pip install -q pyngrok\n",
    "!pip install -q streamlit\n",
    "!pip install -q streamlit_ace\n",
    "!pip install fuzzywuzzy[speedup]\n",
    "!streamlit run app.py & > / dev / null &"
   ],
   "metadata": {
    "collapsed": false,
    "pycharm": {
     "name": "#%%\n"
    }
   }
  },
  {
   "cell_type": "code",
   "execution_count": null,
   "metadata": {
    "collapsed": true
   },
   "outputs": [],
   "source": [
    "%%writefile app.py\n",
    "\n",
    "import streamlit as st\n",
    "import requests as req\n",
    "import re\n",
    "from fuzzywuzzy import process\n",
    "from fuzzywuzzy import fuzz\n",
    "from pyngrok import ngrok\n",
    "import json\n",
    "import pandas as pd\n",
    "from unidecode import unidecode\n",
    "\n",
    "def main():\n",
    "\n",
    "    html_temp = \"\"\" <div style =\"background-color:blue;padding:13px\">\n",
    "                      <h1 style = \"color:white;text-align:center;\">Verificador Imigração - PFA</h1>\n",
    "                    </dic>\n",
    "                \"\"\"\n",
    "\n",
    "    st.markdown(html_temp, unsafe_allow_html = True)\n",
    "\n",
    "    #json api import\n",
    "    goodList = apiGood()\n",
    "    badList = apiBad()\n",
    "\n",
    "\n",
    "    # test.json file import (test only)\n",
    "    feedList=[]\n",
    "    df = pd.read_csv(\"dataTest.csv\",sep=';')\n",
    "    list=df.values.tolist()\n",
    "\n",
    "    for i in range(len(list)):\n",
    "        feedList.append(unidecode(list[i][0]))\n",
    "\n",
    "    results={}\n",
    "\n",
    "    i=1\n",
    "    #score generator\n",
    "    for feed in feedList:\n",
    "        goodScore = getGoodMatch(feed,goodList)\n",
    "        badScore = getBadMatch(feed,badList)\n",
    "        finalScore = goodScore[0] - badScore[0]\n",
    "        results[i]=[feed,finalScore]\n",
    "        i=i+1\n",
    "\n",
    "    results = getSimpleResult(results)\n",
    "    data = listSplit(results)\n",
    "\n",
    "\n",
    "    df = pd.DataFrame({\"Feedback\": feedList, \"Score\":data[0],\"Result\":data[1]})\n",
    "    df.to_excel(\"results.xlsx\")\n",
    "\n",
    "\n",
    "\n",
    "\n",
    "def apiGood():\n",
    "    goodList=[]\n",
    "    apiData = req.get(\"https://kndhvh.github.io/good.json\")\n",
    "    good = apiData.json()['good']\n",
    "    for i in good:\n",
    "        goodList.append(i['good'])\n",
    "    return goodList\n",
    "\n",
    "def apiBad():\n",
    "    badList=[]\n",
    "    apiData = req.get(\"https://kndhvh.github.io/bad.json\")\n",
    "    bad = apiData.json()['bad']\n",
    "    for i in bad:\n",
    "        badList.append(i['bad'])\n",
    "    return badList\n",
    "\n",
    "def listSplit(dict):\n",
    "    scoreList=[]\n",
    "    resultList=[]\n",
    "    for i in dict:\n",
    "        scoreList.append(dict[i][1])\n",
    "        resultList.append(dict[i][2])\n",
    "    return scoreList,resultList\n",
    "\n",
    "def getGoodMatch(input,goodList):\n",
    "    matchScore = process.extract(input,goodList,scorer=fuzz.token_set_ratio)\n",
    "    totalScore = 0\n",
    "    for i in range(0,3):\n",
    "        totalScore += matchScore[i][1]\n",
    "    return totalScore,matchScore\n",
    "\n",
    "def getBadMatch(input,badList):\n",
    "    matchScore = process.extract(input,badList,scorer=fuzz.token_set_ratio)\n",
    "    totalScore = 0\n",
    "    for i in range(0,3):\n",
    "        totalScore += matchScore[i][1]\n",
    "    return totalScore,matchScore\n",
    "\n",
    "def getSimpleResult(dict):\n",
    "    for i in dict:\n",
    "        if dict[i][1] > 30:\n",
    "            dict[i] = [dict[i][0],dict[i][1],'good']\n",
    "\n",
    "        elif dict[i][1] < -30:\n",
    "            dict[i] = [dict[i][0],dict[i][1],'bad']\n",
    "\n",
    "        else:\n",
    "            dict[i] = [dict[i][0],dict[i][1],'neutral']\n",
    "    return dict\n",
    "\n",
    "\n",
    "\n",
    "\n",
    "if __name__ == '__main__':\n",
    "    main()"
   ]
  },
  {
   "cell_type": "code",
   "execution_count": null,
   "outputs": [],
   "source": [
    "!streamlit run app.py & npx localtunnel --port 8501"
   ],
   "metadata": {
    "collapsed": false,
    "pycharm": {
     "name": "#%%\n"
    }
   }
  }
 ],
 "metadata": {
  "kernelspec": {
   "display_name": "Python 3",
   "language": "python",
   "name": "python3"
  },
  "language_info": {
   "codemirror_mode": {
    "name": "ipython",
    "version": 2
   },
   "file_extension": ".py",
   "mimetype": "text/x-python",
   "name": "python",
   "nbconvert_exporter": "python",
   "pygments_lexer": "ipython2",
   "version": "2.7.6"
  }
 },
 "nbformat": 4,
 "nbformat_minor": 0
}